{
  "cells": [
    {
      "cell_type": "code",
      "source": [
        "from numpy import random\n",
        "x=random.randint(100)\n",
        "print(x)"
      ],
      "metadata": {
        "colab": {
          "base_uri": "https://localhost:8080/"
        },
        "id": "4dDDnccilC6q",
        "outputId": "23f23b7c-3fcd-4787-a0de-887f161c673a"
      },
      "id": "4dDDnccilC6q",
      "execution_count": 2,
      "outputs": [
        {
          "output_type": "stream",
          "name": "stdout",
          "text": [
            "23\n"
          ]
        }
      ]
    },
    {
      "cell_type": "code",
      "source": [
        "from numpy import random\n",
        "x=random.choice([3,5,7,9])\n",
        "print(x)"
      ],
      "metadata": {
        "colab": {
          "base_uri": "https://localhost:8080/"
        },
        "id": "6nHJCcbClvFP",
        "outputId": "b553400a-3f2c-4b48-b789-e753dca60eec"
      },
      "id": "6nHJCcbClvFP",
      "execution_count": 3,
      "outputs": [
        {
          "output_type": "stream",
          "name": "stdout",
          "text": [
            "9\n"
          ]
        }
      ]
    },
    {
      "cell_type": "code",
      "source": [
        "from numpy import random\n",
        "x=random.rand(5)\n",
        "print(x)"
      ],
      "metadata": {
        "colab": {
          "base_uri": "https://localhost:8080/"
        },
        "id": "3zQHp72wn7l5",
        "outputId": "599d174c-c763-4da7-8f6b-b0fbfb5a670a"
      },
      "id": "3zQHp72wn7l5",
      "execution_count": 4,
      "outputs": [
        {
          "output_type": "stream",
          "name": "stdout",
          "text": [
            "[0.78333132 0.53509019 0.13280523 0.70634538 0.24512209]\n"
          ]
        }
      ]
    },
    {
      "cell_type": "code",
      "source": [
        "from numpy import random\n",
        "x=random.choice([3,5,7,9],size=(3,5))\n",
        "print(x)"
      ],
      "metadata": {
        "colab": {
          "base_uri": "https://localhost:8080/"
        },
        "id": "9wYZ9HsdoTbi",
        "outputId": "b8e2f256-d1a6-4c46-c732-5b6d7176306f"
      },
      "id": "9wYZ9HsdoTbi",
      "execution_count": 5,
      "outputs": [
        {
          "output_type": "stream",
          "name": "stdout",
          "text": [
            "[[9 9 5 7 7]\n",
            " [3 9 5 9 9]\n",
            " [5 3 7 7 9]]\n"
          ]
        }
      ]
    },
    {
      "cell_type": "code",
      "source": [
        "import numpy as np\n",
        "a=np.arange(10)\n",
        "print(a)"
      ],
      "metadata": {
        "colab": {
          "base_uri": "https://localhost:8080/"
        },
        "id": "fF7EnstUor8U",
        "outputId": "78f5331d-1da0-4f67-bb23-9f979185ce99"
      },
      "id": "fF7EnstUor8U",
      "execution_count": 7,
      "outputs": [
        {
          "output_type": "stream",
          "name": "stdout",
          "text": [
            "[0 1 2 3 4 5 6 7 8 9]\n"
          ]
        }
      ]
    },
    {
      "cell_type": "code",
      "source": [
        "import numpy as np\n",
        "idn=np.eye(3)\n",
        "print(idn)"
      ],
      "metadata": {
        "colab": {
          "base_uri": "https://localhost:8080/"
        },
        "id": "HbpNqLF9pD9r",
        "outputId": "3a87746a-002e-4afe-c0e6-60b205e94699"
      },
      "id": "HbpNqLF9pD9r",
      "execution_count": 9,
      "outputs": [
        {
          "output_type": "stream",
          "name": "stdout",
          "text": [
            "[[1. 0. 0.]\n",
            " [0. 1. 0.]\n",
            " [0. 0. 1.]]\n"
          ]
        }
      ]
    },
    {
      "source": [
        "arr1 = np.arange(1, 6)\n",
        "arr2 = np.arange(10, 15)\n",
        "add_result = arr1 + arr2\n",
        "print(\"Addition:\", add_result)\n",
        "sub_result = arr1 - arr2\n",
        "print(\"Subtraction:\", sub_result)\n",
        "mul_result = arr1 * arr2\n",
        "print(\"Multiplication:\", mul_result)\n",
        "div_result = arr1 / arr2\n",
        "print(\"Division:\", div_result)"
      ],
      "cell_type": "code",
      "metadata": {
        "id": "B_XDlaMrq30M",
        "outputId": "8ff572d6-8378-489e-8b87-e7cdfc15789a",
        "colab": {
          "base_uri": "https://localhost:8080/"
        }
      },
      "id": "B_XDlaMrq30M",
      "execution_count": 12,
      "outputs": [
        {
          "output_type": "stream",
          "name": "stdout",
          "text": [
            "Addition: [11 13 15 17 19]\n",
            "Subtraction: [-9 -9 -9 -9 -9]\n",
            "Multiplication: [10 22 36 52 70]\n",
            "Division: [0.1        0.18181818 0.25       0.30769231 0.35714286]\n"
          ]
        }
      ]
    }
  ],
  "metadata": {
    "kernelspec": {
      "display_name": "Python 3",
      "name": "python3"
    },
    "language_info": {
      "name": "python"
    },
    "required_libs": [],
    "colab": {
      "provenance": []
    }
  },
  "nbformat": 4,
  "nbformat_minor": 5
}